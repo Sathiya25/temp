{
 "cells": [
  {
   "cell_type": "markdown",
   "id": "sitting-estate",
   "metadata": {},
   "source": [
    "# Simple Linear Regression\n"
   ]
  },
  {
   "cell_type": "markdown",
   "id": "acoustic-conducting",
   "metadata": {},
   "source": [
    "using data Salary_data.csv"
   ]
  },
  {
   "cell_type": "markdown",
   "id": "subtle-provincial",
   "metadata": {},
   "source": [
    "Two values (Dependent - Salary VS Independent - Year of Exp"
   ]
  },
  {
   "cell_type": "markdown",
   "id": "differential-digit",
   "metadata": {},
   "source": [
    "Load tthe dataset"
   ]
  },
  {
   "cell_type": "code",
   "execution_count": 1,
   "id": "alike-function",
   "metadata": {},
   "outputs": [
    {
     "data": {
      "text/html": [
       "'G:/Jupyter/R/ML'"
      ],
      "text/latex": [
       "'G:/Jupyter/R/ML'"
      ],
      "text/markdown": [
       "'G:/Jupyter/R/ML'"
      ],
      "text/plain": [
       "[1] \"G:/Jupyter/R/ML\""
      ]
     },
     "metadata": {},
     "output_type": "display_data"
    }
   ],
   "source": [
    "getwd()"
   ]
  },
  {
   "cell_type": "code",
   "execution_count": 4,
   "id": "empty-selection",
   "metadata": {},
   "outputs": [],
   "source": [
    "data  <- read.csv(\"G:/Jupyter/R/ML/dataset/Salary_Data.csv\")"
   ]
  },
  {
   "cell_type": "code",
   "execution_count": 5,
   "id": "public-smith",
   "metadata": {},
   "outputs": [
    {
     "data": {
      "text/html": [
       "<table class=\"dataframe\">\n",
       "<caption>A data.frame: 6 × 2</caption>\n",
       "<thead>\n",
       "\t<tr><th></th><th scope=col>YearsExperience</th><th scope=col>Salary</th></tr>\n",
       "\t<tr><th></th><th scope=col>&lt;dbl&gt;</th><th scope=col>&lt;dbl&gt;</th></tr>\n",
       "</thead>\n",
       "<tbody>\n",
       "\t<tr><th scope=row>1</th><td>1.1</td><td>39343</td></tr>\n",
       "\t<tr><th scope=row>2</th><td>1.3</td><td>46205</td></tr>\n",
       "\t<tr><th scope=row>3</th><td>1.5</td><td>37731</td></tr>\n",
       "\t<tr><th scope=row>4</th><td>2.0</td><td>43525</td></tr>\n",
       "\t<tr><th scope=row>5</th><td>2.2</td><td>39891</td></tr>\n",
       "\t<tr><th scope=row>6</th><td>2.9</td><td>56642</td></tr>\n",
       "</tbody>\n",
       "</table>\n"
      ],
      "text/latex": [
       "A data.frame: 6 × 2\n",
       "\\begin{tabular}{r|ll}\n",
       "  & YearsExperience & Salary\\\\\n",
       "  & <dbl> & <dbl>\\\\\n",
       "\\hline\n",
       "\t1 & 1.1 & 39343\\\\\n",
       "\t2 & 1.3 & 46205\\\\\n",
       "\t3 & 1.5 & 37731\\\\\n",
       "\t4 & 2.0 & 43525\\\\\n",
       "\t5 & 2.2 & 39891\\\\\n",
       "\t6 & 2.9 & 56642\\\\\n",
       "\\end{tabular}\n"
      ],
      "text/markdown": [
       "\n",
       "A data.frame: 6 × 2\n",
       "\n",
       "| <!--/--> | YearsExperience &lt;dbl&gt; | Salary &lt;dbl&gt; |\n",
       "|---|---|---|\n",
       "| 1 | 1.1 | 39343 |\n",
       "| 2 | 1.3 | 46205 |\n",
       "| 3 | 1.5 | 37731 |\n",
       "| 4 | 2.0 | 43525 |\n",
       "| 5 | 2.2 | 39891 |\n",
       "| 6 | 2.9 | 56642 |\n",
       "\n"
      ],
      "text/plain": [
       "  YearsExperience Salary\n",
       "1 1.1             39343 \n",
       "2 1.3             46205 \n",
       "3 1.5             37731 \n",
       "4 2.0             43525 \n",
       "5 2.2             39891 \n",
       "6 2.9             56642 "
      ]
     },
     "metadata": {},
     "output_type": "display_data"
    }
   ],
   "source": [
    "head(data)"
   ]
  },
  {
   "cell_type": "markdown",
   "id": "enclosed-behalf",
   "metadata": {},
   "source": [
    "## Splitting Data into training and testing"
   ]
  },
  {
   "cell_type": "code",
   "execution_count": 12,
   "id": "built-julian",
   "metadata": {},
   "outputs": [
    {
     "name": "stderr",
     "output_type": "stream",
     "text": [
      "Warning message:\n",
      "\"package 'caTools' is in use and will not be installed\"\n"
     ]
    }
   ],
   "source": [
    "install.packages('caTools')\n",
    "library(caTools)"
   ]
  },
  {
   "cell_type": "code",
   "execution_count": 13,
   "id": "quantitative-million",
   "metadata": {},
   "outputs": [],
   "source": [
    "set.seed(1580)"
   ]
  },
  {
   "cell_type": "markdown",
   "id": "scheduled-pepper",
   "metadata": {},
   "source": [
    "We have to split only basaed on the Dependent variable"
   ]
  },
  {
   "cell_type": "code",
   "execution_count": 69,
   "id": "continent-movement",
   "metadata": {},
   "outputs": [
    {
     "data": {
      "text/html": [
       "<style>\n",
       ".list-inline {list-style: none; margin:0; padding: 0}\n",
       ".list-inline>li {display: inline-block}\n",
       ".list-inline>li:not(:last-child)::after {content: \"\\00b7\"; padding: 0 .5ex}\n",
       "</style>\n",
       "<ol class=list-inline><li>TRUE</li><li>FALSE</li><li>FALSE</li><li>TRUE</li><li>TRUE</li><li>TRUE</li><li>TRUE</li><li>FALSE</li><li>TRUE</li><li>TRUE</li><li>TRUE</li><li>TRUE</li><li>FALSE</li><li>TRUE</li><li>FALSE</li><li>FALSE</li><li>TRUE</li><li>TRUE</li><li>FALSE</li><li>FALSE</li><li>TRUE</li><li>TRUE</li><li>TRUE</li><li>FALSE</li><li>FALSE</li><li>TRUE</li><li>TRUE</li><li>TRUE</li><li>TRUE</li><li>TRUE</li></ol>\n"
      ],
      "text/latex": [
       "\\begin{enumerate*}\n",
       "\\item TRUE\n",
       "\\item FALSE\n",
       "\\item FALSE\n",
       "\\item TRUE\n",
       "\\item TRUE\n",
       "\\item TRUE\n",
       "\\item TRUE\n",
       "\\item FALSE\n",
       "\\item TRUE\n",
       "\\item TRUE\n",
       "\\item TRUE\n",
       "\\item TRUE\n",
       "\\item FALSE\n",
       "\\item TRUE\n",
       "\\item FALSE\n",
       "\\item FALSE\n",
       "\\item TRUE\n",
       "\\item TRUE\n",
       "\\item FALSE\n",
       "\\item FALSE\n",
       "\\item TRUE\n",
       "\\item TRUE\n",
       "\\item TRUE\n",
       "\\item FALSE\n",
       "\\item FALSE\n",
       "\\item TRUE\n",
       "\\item TRUE\n",
       "\\item TRUE\n",
       "\\item TRUE\n",
       "\\item TRUE\n",
       "\\end{enumerate*}\n"
      ],
      "text/markdown": [
       "1. TRUE\n",
       "2. FALSE\n",
       "3. FALSE\n",
       "4. TRUE\n",
       "5. TRUE\n",
       "6. TRUE\n",
       "7. TRUE\n",
       "8. FALSE\n",
       "9. TRUE\n",
       "10. TRUE\n",
       "11. TRUE\n",
       "12. TRUE\n",
       "13. FALSE\n",
       "14. TRUE\n",
       "15. FALSE\n",
       "16. FALSE\n",
       "17. TRUE\n",
       "18. TRUE\n",
       "19. FALSE\n",
       "20. FALSE\n",
       "21. TRUE\n",
       "22. TRUE\n",
       "23. TRUE\n",
       "24. FALSE\n",
       "25. FALSE\n",
       "26. TRUE\n",
       "27. TRUE\n",
       "28. TRUE\n",
       "29. TRUE\n",
       "30. TRUE\n",
       "\n",
       "\n"
      ],
      "text/plain": [
       " [1]  TRUE FALSE FALSE  TRUE  TRUE  TRUE  TRUE FALSE  TRUE  TRUE  TRUE  TRUE\n",
       "[13] FALSE  TRUE FALSE FALSE  TRUE  TRUE FALSE FALSE  TRUE  TRUE  TRUE FALSE\n",
       "[25] FALSE  TRUE  TRUE  TRUE  TRUE  TRUE"
      ]
     },
     "metadata": {},
     "output_type": "display_data"
    }
   ],
   "source": [
    "sample.split(Y = data$Salary, SplitRatio=2/3)"
   ]
  },
  {
   "cell_type": "code",
   "execution_count": 49,
   "id": "lesbian-literacy",
   "metadata": {},
   "outputs": [],
   "source": [
    "split <- sample.split(Y = data$Salary, SplitRatio=2/3)\n",
    "#it gves output as true and false we have to seperate "
   ]
  },
  {
   "cell_type": "code",
   "execution_count": 37,
   "id": "rising-charger",
   "metadata": {},
   "outputs": [],
   "source": [
    "?subset"
   ]
  },
  {
   "cell_type": "code",
   "execution_count": 56,
   "id": "unexpected-dancing",
   "metadata": {},
   "outputs": [],
   "source": [
    "train_set <- subset(x = data, split == TRUE) "
   ]
  },
  {
   "cell_type": "code",
   "execution_count": 62,
   "id": "single-doctrine",
   "metadata": {},
   "outputs": [],
   "source": [
    "test_set <- subset(x = data, split == FALSE) "
   ]
  },
  {
   "cell_type": "code",
   "execution_count": 59,
   "id": "pharmaceutical-worry",
   "metadata": {
    "scrolled": true
   },
   "outputs": [
    {
     "data": {
      "text/html": [
       "<table class=\"dataframe\">\n",
       "<caption>A data.frame: 20 × 2</caption>\n",
       "<thead>\n",
       "\t<tr><th></th><th scope=col>YearsExperience</th><th scope=col>Salary</th></tr>\n",
       "\t<tr><th></th><th scope=col>&lt;dbl&gt;</th><th scope=col>&lt;dbl&gt;</th></tr>\n",
       "</thead>\n",
       "<tbody>\n",
       "\t<tr><th scope=row>2</th><td> 1.3</td><td> 46205</td></tr>\n",
       "\t<tr><th scope=row>6</th><td> 2.9</td><td> 56642</td></tr>\n",
       "\t<tr><th scope=row>7</th><td> 3.0</td><td> 60150</td></tr>\n",
       "\t<tr><th scope=row>8</th><td> 3.2</td><td> 54445</td></tr>\n",
       "\t<tr><th scope=row>9</th><td> 3.2</td><td> 64445</td></tr>\n",
       "\t<tr><th scope=row>10</th><td> 3.7</td><td> 57189</td></tr>\n",
       "\t<tr><th scope=row>13</th><td> 4.0</td><td> 56957</td></tr>\n",
       "\t<tr><th scope=row>15</th><td> 4.5</td><td> 61111</td></tr>\n",
       "\t<tr><th scope=row>16</th><td> 4.9</td><td> 67938</td></tr>\n",
       "\t<tr><th scope=row>17</th><td> 5.1</td><td> 66029</td></tr>\n",
       "\t<tr><th scope=row>18</th><td> 5.3</td><td> 83088</td></tr>\n",
       "\t<tr><th scope=row>19</th><td> 5.9</td><td> 81363</td></tr>\n",
       "\t<tr><th scope=row>21</th><td> 6.8</td><td> 91738</td></tr>\n",
       "\t<tr><th scope=row>22</th><td> 7.1</td><td> 98273</td></tr>\n",
       "\t<tr><th scope=row>23</th><td> 7.9</td><td>101302</td></tr>\n",
       "\t<tr><th scope=row>26</th><td> 9.0</td><td>105582</td></tr>\n",
       "\t<tr><th scope=row>27</th><td> 9.5</td><td>116969</td></tr>\n",
       "\t<tr><th scope=row>28</th><td> 9.6</td><td>112635</td></tr>\n",
       "\t<tr><th scope=row>29</th><td>10.3</td><td>122391</td></tr>\n",
       "\t<tr><th scope=row>30</th><td>10.5</td><td>121872</td></tr>\n",
       "</tbody>\n",
       "</table>\n"
      ],
      "text/latex": [
       "A data.frame: 20 × 2\n",
       "\\begin{tabular}{r|ll}\n",
       "  & YearsExperience & Salary\\\\\n",
       "  & <dbl> & <dbl>\\\\\n",
       "\\hline\n",
       "\t2 &  1.3 &  46205\\\\\n",
       "\t6 &  2.9 &  56642\\\\\n",
       "\t7 &  3.0 &  60150\\\\\n",
       "\t8 &  3.2 &  54445\\\\\n",
       "\t9 &  3.2 &  64445\\\\\n",
       "\t10 &  3.7 &  57189\\\\\n",
       "\t13 &  4.0 &  56957\\\\\n",
       "\t15 &  4.5 &  61111\\\\\n",
       "\t16 &  4.9 &  67938\\\\\n",
       "\t17 &  5.1 &  66029\\\\\n",
       "\t18 &  5.3 &  83088\\\\\n",
       "\t19 &  5.9 &  81363\\\\\n",
       "\t21 &  6.8 &  91738\\\\\n",
       "\t22 &  7.1 &  98273\\\\\n",
       "\t23 &  7.9 & 101302\\\\\n",
       "\t26 &  9.0 & 105582\\\\\n",
       "\t27 &  9.5 & 116969\\\\\n",
       "\t28 &  9.6 & 112635\\\\\n",
       "\t29 & 10.3 & 122391\\\\\n",
       "\t30 & 10.5 & 121872\\\\\n",
       "\\end{tabular}\n"
      ],
      "text/markdown": [
       "\n",
       "A data.frame: 20 × 2\n",
       "\n",
       "| <!--/--> | YearsExperience &lt;dbl&gt; | Salary &lt;dbl&gt; |\n",
       "|---|---|---|\n",
       "| 2 |  1.3 |  46205 |\n",
       "| 6 |  2.9 |  56642 |\n",
       "| 7 |  3.0 |  60150 |\n",
       "| 8 |  3.2 |  54445 |\n",
       "| 9 |  3.2 |  64445 |\n",
       "| 10 |  3.7 |  57189 |\n",
       "| 13 |  4.0 |  56957 |\n",
       "| 15 |  4.5 |  61111 |\n",
       "| 16 |  4.9 |  67938 |\n",
       "| 17 |  5.1 |  66029 |\n",
       "| 18 |  5.3 |  83088 |\n",
       "| 19 |  5.9 |  81363 |\n",
       "| 21 |  6.8 |  91738 |\n",
       "| 22 |  7.1 |  98273 |\n",
       "| 23 |  7.9 | 101302 |\n",
       "| 26 |  9.0 | 105582 |\n",
       "| 27 |  9.5 | 116969 |\n",
       "| 28 |  9.6 | 112635 |\n",
       "| 29 | 10.3 | 122391 |\n",
       "| 30 | 10.5 | 121872 |\n",
       "\n"
      ],
      "text/plain": [
       "   YearsExperience Salary\n",
       "2   1.3             46205\n",
       "6   2.9             56642\n",
       "7   3.0             60150\n",
       "8   3.2             54445\n",
       "9   3.2             64445\n",
       "10  3.7             57189\n",
       "13  4.0             56957\n",
       "15  4.5             61111\n",
       "16  4.9             67938\n",
       "17  5.1             66029\n",
       "18  5.3             83088\n",
       "19  5.9             81363\n",
       "21  6.8             91738\n",
       "22  7.1             98273\n",
       "23  7.9            101302\n",
       "26  9.0            105582\n",
       "27  9.5            116969\n",
       "28  9.6            112635\n",
       "29 10.3            122391\n",
       "30 10.5            121872"
      ]
     },
     "metadata": {},
     "output_type": "display_data"
    }
   ],
   "source": [
    "train_set"
   ]
  },
  {
   "cell_type": "code",
   "execution_count": 63,
   "id": "vital-million",
   "metadata": {
    "scrolled": true
   },
   "outputs": [
    {
     "data": {
      "text/html": [
       "<table class=\"dataframe\">\n",
       "<caption>A data.frame: 10 × 2</caption>\n",
       "<thead>\n",
       "\t<tr><th></th><th scope=col>YearsExperience</th><th scope=col>Salary</th></tr>\n",
       "\t<tr><th></th><th scope=col>&lt;dbl&gt;</th><th scope=col>&lt;dbl&gt;</th></tr>\n",
       "</thead>\n",
       "<tbody>\n",
       "\t<tr><th scope=row>1</th><td>1.1</td><td> 39343</td></tr>\n",
       "\t<tr><th scope=row>3</th><td>1.5</td><td> 37731</td></tr>\n",
       "\t<tr><th scope=row>4</th><td>2.0</td><td> 43525</td></tr>\n",
       "\t<tr><th scope=row>5</th><td>2.2</td><td> 39891</td></tr>\n",
       "\t<tr><th scope=row>11</th><td>3.9</td><td> 63218</td></tr>\n",
       "\t<tr><th scope=row>12</th><td>4.0</td><td> 55794</td></tr>\n",
       "\t<tr><th scope=row>14</th><td>4.1</td><td> 57081</td></tr>\n",
       "\t<tr><th scope=row>20</th><td>6.0</td><td> 93940</td></tr>\n",
       "\t<tr><th scope=row>24</th><td>8.2</td><td>113812</td></tr>\n",
       "\t<tr><th scope=row>25</th><td>8.7</td><td>109431</td></tr>\n",
       "</tbody>\n",
       "</table>\n"
      ],
      "text/latex": [
       "A data.frame: 10 × 2\n",
       "\\begin{tabular}{r|ll}\n",
       "  & YearsExperience & Salary\\\\\n",
       "  & <dbl> & <dbl>\\\\\n",
       "\\hline\n",
       "\t1 & 1.1 &  39343\\\\\n",
       "\t3 & 1.5 &  37731\\\\\n",
       "\t4 & 2.0 &  43525\\\\\n",
       "\t5 & 2.2 &  39891\\\\\n",
       "\t11 & 3.9 &  63218\\\\\n",
       "\t12 & 4.0 &  55794\\\\\n",
       "\t14 & 4.1 &  57081\\\\\n",
       "\t20 & 6.0 &  93940\\\\\n",
       "\t24 & 8.2 & 113812\\\\\n",
       "\t25 & 8.7 & 109431\\\\\n",
       "\\end{tabular}\n"
      ],
      "text/markdown": [
       "\n",
       "A data.frame: 10 × 2\n",
       "\n",
       "| <!--/--> | YearsExperience &lt;dbl&gt; | Salary &lt;dbl&gt; |\n",
       "|---|---|---|\n",
       "| 1 | 1.1 |  39343 |\n",
       "| 3 | 1.5 |  37731 |\n",
       "| 4 | 2.0 |  43525 |\n",
       "| 5 | 2.2 |  39891 |\n",
       "| 11 | 3.9 |  63218 |\n",
       "| 12 | 4.0 |  55794 |\n",
       "| 14 | 4.1 |  57081 |\n",
       "| 20 | 6.0 |  93940 |\n",
       "| 24 | 8.2 | 113812 |\n",
       "| 25 | 8.7 | 109431 |\n",
       "\n"
      ],
      "text/plain": [
       "   YearsExperience Salary\n",
       "1  1.1              39343\n",
       "3  1.5              37731\n",
       "4  2.0              43525\n",
       "5  2.2              39891\n",
       "11 3.9              63218\n",
       "12 4.0              55794\n",
       "14 4.1              57081\n",
       "20 6.0              93940\n",
       "24 8.2             113812\n",
       "25 8.7             109431"
      ]
     },
     "metadata": {},
     "output_type": "display_data"
    }
   ],
   "source": [
    "test_set"
   ]
  },
  {
   "cell_type": "markdown",
   "id": "senior-endorsement",
   "metadata": {},
   "source": [
    "Future Scaling (Normalising)"
   ]
  },
  {
   "cell_type": "code",
   "execution_count": 21,
   "id": "native-bosnia",
   "metadata": {},
   "outputs": [],
   "source": [
    "#scale(train_set[,])"
   ]
  },
  {
   "cell_type": "markdown",
   "id": "minor-flour",
   "metadata": {},
   "source": [
    "SLR inbuilt function is \"lm\""
   ]
  },
  {
   "cell_type": "code",
   "execution_count": 64,
   "id": "contained-straight",
   "metadata": {},
   "outputs": [],
   "source": [
    "\n",
    "#?lm\n",
    "#formula is Dependent vs(~) Independent\n",
    "\n",
    "regressor <- lm(formula = Salary ~ YearsExperience,\n",
    "   data = train_set)"
   ]
  },
  {
   "cell_type": "code",
   "execution_count": 65,
   "id": "olympic-morris",
   "metadata": {},
   "outputs": [
    {
     "data": {
      "text/plain": [
       "\n",
       "Call:\n",
       "lm(formula = Salary ~ YearsExperience, data = train_set)\n",
       "\n",
       "Residuals:\n",
       "    Min      1Q  Median      3Q     Max \n",
       "-8294.1 -3763.7   828.8  3720.4  7047.8 \n",
       "\n",
       "Coefficients:\n",
       "                Estimate Std. Error t value Pr(>|t|)    \n",
       "(Intercept)      28890.5     2726.3   10.60 3.63e-09 ***\n",
       "YearsExperience   8908.4      420.4   21.19 3.54e-14 ***\n",
       "---\n",
       "Signif. codes:  0 '***' 0.001 '**' 0.01 '*' 0.05 '.' 0.1 ' ' 1\n",
       "\n",
       "Residual standard error: 5124 on 18 degrees of freedom\n",
       "Multiple R-squared:  0.9615,\tAdjusted R-squared:  0.9593 \n",
       "F-statistic: 449.1 on 1 and 18 DF,  p-value: 3.537e-14\n"
      ]
     },
     "metadata": {},
     "output_type": "display_data"
    }
   ],
   "source": [
    "summary(regressor)"
   ]
  },
  {
   "cell_type": "markdown",
   "id": "jewish-flooring",
   "metadata": {},
   "source": [
    "### If there is a \"BlankSpace or '.' \" at end of Coefficients instead of Stars the MODEL IS WRONG"
   ]
  },
  {
   "cell_type": "markdown",
   "id": "digital-latex",
   "metadata": {},
   "source": [
    "### Predicting the result"
   ]
  },
  {
   "cell_type": "code",
   "execution_count": 66,
   "id": "identified-insulation",
   "metadata": {
    "scrolled": true
   },
   "outputs": [
    {
     "data": {
      "text/html": [
       "<style>\n",
       ".dl-inline {width: auto; margin:0; padding: 0}\n",
       ".dl-inline>dt, .dl-inline>dd {float: none; width: auto; display: inline-block}\n",
       ".dl-inline>dt::after {content: \":\\0020\"; padding-right: .5ex}\n",
       ".dl-inline>dt:not(:first-of-type) {padding-left: .5ex}\n",
       "</style><dl class=dl-inline><dt>2</dt><dd>40471.3467128354</dd><dt>6</dt><dd>54724.7306298394</dd><dt>7</dt><dd>55615.5671246521</dd><dt>8</dt><dd>57397.2401142776</dd><dt>9</dt><dd>57397.2401142776</dd><dt>10</dt><dd>61851.4225883414</dd><dt>13</dt><dd>64523.9320727796</dd><dt>15</dt><dd>68978.1145468434</dd><dt>16</dt><dd>72541.4605260944</dd><dt>17</dt><dd>74323.1335157199</dd><dt>18</dt><dd>76104.8065053454</dd><dt>19</dt><dd>81449.8254742219</dd><dt>21</dt><dd>89467.3539275367</dd><dt>22</dt><dd>92139.8634119749</dd><dt>23</dt><dd>99266.5553704769</dd><dt>26</dt><dd>109065.756813417</dd><dt>27</dt><dd>113519.939287481</dd><dt>28</dt><dd>114410.775782294</dd><dt>29</dt><dd>120646.631245983</dd><dt>30</dt><dd>122428.304235608</dd></dl>\n"
      ],
      "text/latex": [
       "\\begin{description*}\n",
       "\\item[2] 40471.3467128354\n",
       "\\item[6] 54724.7306298394\n",
       "\\item[7] 55615.5671246521\n",
       "\\item[8] 57397.2401142776\n",
       "\\item[9] 57397.2401142776\n",
       "\\item[10] 61851.4225883414\n",
       "\\item[13] 64523.9320727796\n",
       "\\item[15] 68978.1145468434\n",
       "\\item[16] 72541.4605260944\n",
       "\\item[17] 74323.1335157199\n",
       "\\item[18] 76104.8065053454\n",
       "\\item[19] 81449.8254742219\n",
       "\\item[21] 89467.3539275367\n",
       "\\item[22] 92139.8634119749\n",
       "\\item[23] 99266.5553704769\n",
       "\\item[26] 109065.756813417\n",
       "\\item[27] 113519.939287481\n",
       "\\item[28] 114410.775782294\n",
       "\\item[29] 120646.631245983\n",
       "\\item[30] 122428.304235608\n",
       "\\end{description*}\n"
      ],
      "text/markdown": [
       "2\n",
       ":   40471.34671283546\n",
       ":   54724.73062983947\n",
       ":   55615.56712465218\n",
       ":   57397.24011427769\n",
       ":   57397.240114277610\n",
       ":   61851.422588341413\n",
       ":   64523.932072779615\n",
       ":   68978.114546843416\n",
       ":   72541.460526094417\n",
       ":   74323.133515719918\n",
       ":   76104.806505345419\n",
       ":   81449.825474221921\n",
       ":   89467.353927536722\n",
       ":   92139.863411974923\n",
       ":   99266.555370476926\n",
       ":   109065.75681341727\n",
       ":   113519.93928748128\n",
       ":   114410.77578229429\n",
       ":   120646.63124598330\n",
       ":   122428.304235608\n",
       "\n"
      ],
      "text/plain": [
       "        2         6         7         8         9        10        13        15 \n",
       " 40471.35  54724.73  55615.57  57397.24  57397.24  61851.42  64523.93  68978.11 \n",
       "       16        17        18        19        21        22        23        26 \n",
       " 72541.46  74323.13  76104.81  81449.83  89467.35  92139.86  99266.56 109065.76 \n",
       "       27        28        29        30 \n",
       "113519.94 114410.78 120646.63 122428.30 "
      ]
     },
     "metadata": {},
     "output_type": "display_data"
    }
   ],
   "source": [
    "predict(regressor, newdata = train_set)"
   ]
  },
  {
   "cell_type": "code",
   "execution_count": 67,
   "id": "three-senator",
   "metadata": {
    "scrolled": true
   },
   "outputs": [
    {
     "data": {
      "text/html": [
       "<table class=\"dataframe\">\n",
       "<caption>A data.frame: 10 × 2</caption>\n",
       "<thead>\n",
       "\t<tr><th></th><th scope=col>YearsExperience</th><th scope=col>Salary</th></tr>\n",
       "\t<tr><th></th><th scope=col>&lt;dbl&gt;</th><th scope=col>&lt;dbl&gt;</th></tr>\n",
       "</thead>\n",
       "<tbody>\n",
       "\t<tr><th scope=row>1</th><td>1.1</td><td> 39343</td></tr>\n",
       "\t<tr><th scope=row>3</th><td>1.5</td><td> 37731</td></tr>\n",
       "\t<tr><th scope=row>4</th><td>2.0</td><td> 43525</td></tr>\n",
       "\t<tr><th scope=row>5</th><td>2.2</td><td> 39891</td></tr>\n",
       "\t<tr><th scope=row>11</th><td>3.9</td><td> 63218</td></tr>\n",
       "\t<tr><th scope=row>12</th><td>4.0</td><td> 55794</td></tr>\n",
       "\t<tr><th scope=row>14</th><td>4.1</td><td> 57081</td></tr>\n",
       "\t<tr><th scope=row>20</th><td>6.0</td><td> 93940</td></tr>\n",
       "\t<tr><th scope=row>24</th><td>8.2</td><td>113812</td></tr>\n",
       "\t<tr><th scope=row>25</th><td>8.7</td><td>109431</td></tr>\n",
       "</tbody>\n",
       "</table>\n"
      ],
      "text/latex": [
       "A data.frame: 10 × 2\n",
       "\\begin{tabular}{r|ll}\n",
       "  & YearsExperience & Salary\\\\\n",
       "  & <dbl> & <dbl>\\\\\n",
       "\\hline\n",
       "\t1 & 1.1 &  39343\\\\\n",
       "\t3 & 1.5 &  37731\\\\\n",
       "\t4 & 2.0 &  43525\\\\\n",
       "\t5 & 2.2 &  39891\\\\\n",
       "\t11 & 3.9 &  63218\\\\\n",
       "\t12 & 4.0 &  55794\\\\\n",
       "\t14 & 4.1 &  57081\\\\\n",
       "\t20 & 6.0 &  93940\\\\\n",
       "\t24 & 8.2 & 113812\\\\\n",
       "\t25 & 8.7 & 109431\\\\\n",
       "\\end{tabular}\n"
      ],
      "text/markdown": [
       "\n",
       "A data.frame: 10 × 2\n",
       "\n",
       "| <!--/--> | YearsExperience &lt;dbl&gt; | Salary &lt;dbl&gt; |\n",
       "|---|---|---|\n",
       "| 1 | 1.1 |  39343 |\n",
       "| 3 | 1.5 |  37731 |\n",
       "| 4 | 2.0 |  43525 |\n",
       "| 5 | 2.2 |  39891 |\n",
       "| 11 | 3.9 |  63218 |\n",
       "| 12 | 4.0 |  55794 |\n",
       "| 14 | 4.1 |  57081 |\n",
       "| 20 | 6.0 |  93940 |\n",
       "| 24 | 8.2 | 113812 |\n",
       "| 25 | 8.7 | 109431 |\n",
       "\n"
      ],
      "text/plain": [
       "   YearsExperience Salary\n",
       "1  1.1              39343\n",
       "3  1.5              37731\n",
       "4  2.0              43525\n",
       "5  2.2              39891\n",
       "11 3.9              63218\n",
       "12 4.0              55794\n",
       "14 4.1              57081\n",
       "20 6.0              93940\n",
       "24 8.2             113812\n",
       "25 8.7             109431"
      ]
     },
     "metadata": {},
     "output_type": "display_data"
    }
   ],
   "source": [
    "# Actual Test data\n",
    "test_set"
   ]
  },
  {
   "cell_type": "markdown",
   "id": "looking-explanation",
   "metadata": {},
   "source": [
    "### Plotting Graph"
   ]
  },
  {
   "cell_type": "code",
   "execution_count": 44,
   "id": "marked-allocation",
   "metadata": {
    "scrolled": false
   },
   "outputs": [
    {
     "name": "stderr",
     "output_type": "stream",
     "text": [
      "Warning message:\n",
      "\"package 'ggplot2' is in use and will not be installed\"\n"
     ]
    }
   ],
   "source": [
    "install.packages('ggplot2')\n",
    "library(ggplot2)"
   ]
  },
  {
   "cell_type": "code",
   "execution_count": 72,
   "id": "working-producer",
   "metadata": {
    "scrolled": false
   },
   "outputs": [
    {
     "data": {
      "image/png": "[encoded data removed]",
      "text/plain": [
       "plot without title"
      ]
     },
     "metadata": {
      "image/png": {
       "height": 420,
       "width": 420
      }
     },
     "output_type": "display_data"
    }
   ],
   "source": [
    "ggplot()+\n",
    "    geom_point(aes(train_set$YearsExperience,\n",
    "                   train_set$Salary))+\n",
    "    geom_line(aes(train_set$YearsExperience,\n",
    "                 predict(regressor, newdata = train_set)))"
   ]
  },
  {
   "cell_type": "markdown",
   "id": "assumed-forge",
   "metadata": {},
   "source": [
    "## using bonds dataset\n"
   ]
  },
  {
   "cell_type": "code",
   "execution_count": 74,
   "id": "surgical-dominant",
   "metadata": {},
   "outputs": [],
   "source": [
    "bonds <- read.delim(\"G:/Jupyter/R/ML/dataset/bonds.txt\")"
   ]
  },
  {
   "cell_type": "code",
   "execution_count": 75,
   "id": "oriented-description",
   "metadata": {
    "scrolled": true
   },
   "outputs": [
    {
     "data": {
      "text/html": [
       "<table class=\"dataframe\">\n",
       "<caption>A data.frame: 35 × 3</caption>\n",
       "<thead>\n",
       "\t<tr><th scope=col>Case</th><th scope=col>CouponRate</th><th scope=col>BidPrice</th></tr>\n",
       "\t<tr><th scope=col>&lt;int&gt;</th><th scope=col>&lt;dbl&gt;</th><th scope=col>&lt;dbl&gt;</th></tr>\n",
       "</thead>\n",
       "<tbody>\n",
       "\t<tr><td> 1</td><td> 7.000</td><td> 92.94</td></tr>\n",
       "\t<tr><td> 2</td><td> 9.000</td><td>101.44</td></tr>\n",
       "\t<tr><td> 3</td><td> 7.000</td><td> 92.66</td></tr>\n",
       "\t<tr><td> 4</td><td> 4.125</td><td> 94.50</td></tr>\n",
       "\t<tr><td> 5</td><td>13.125</td><td>118.94</td></tr>\n",
       "\t<tr><td> 6</td><td> 8.000</td><td> 96.75</td></tr>\n",
       "\t<tr><td> 7</td><td> 8.750</td><td>100.88</td></tr>\n",
       "\t<tr><td> 8</td><td>12.625</td><td>117.25</td></tr>\n",
       "\t<tr><td> 9</td><td> 9.500</td><td>103.34</td></tr>\n",
       "\t<tr><td>10</td><td>10.125</td><td>106.25</td></tr>\n",
       "\t<tr><td>11</td><td>11.625</td><td>113.19</td></tr>\n",
       "\t<tr><td>12</td><td> 8.625</td><td> 99.44</td></tr>\n",
       "\t<tr><td>13</td><td> 3.000</td><td> 94.50</td></tr>\n",
       "\t<tr><td>14</td><td>10.500</td><td>108.31</td></tr>\n",
       "\t<tr><td>15</td><td>11.250</td><td>111.69</td></tr>\n",
       "\t<tr><td>16</td><td> 8.375</td><td> 98.09</td></tr>\n",
       "\t<tr><td>17</td><td>10.375</td><td>107.91</td></tr>\n",
       "\t<tr><td>18</td><td>11.250</td><td>111.97</td></tr>\n",
       "\t<tr><td>19</td><td>12.625</td><td>119.06</td></tr>\n",
       "\t<tr><td>20</td><td> 8.875</td><td>100.38</td></tr>\n",
       "\t<tr><td>21</td><td>10.500</td><td>108.50</td></tr>\n",
       "\t<tr><td>22</td><td> 8.625</td><td> 99.25</td></tr>\n",
       "\t<tr><td>23</td><td> 9.500</td><td>103.63</td></tr>\n",
       "\t<tr><td>24</td><td>11.500</td><td>114.03</td></tr>\n",
       "\t<tr><td>25</td><td> 8.875</td><td>100.38</td></tr>\n",
       "\t<tr><td>26</td><td> 7.375</td><td> 92.06</td></tr>\n",
       "\t<tr><td>27</td><td> 7.250</td><td> 90.88</td></tr>\n",
       "\t<tr><td>28</td><td> 8.625</td><td> 98.41</td></tr>\n",
       "\t<tr><td>29</td><td> 8.500</td><td> 97.75</td></tr>\n",
       "\t<tr><td>30</td><td> 8.875</td><td> 99.88</td></tr>\n",
       "\t<tr><td>31</td><td> 8.125</td><td> 95.16</td></tr>\n",
       "\t<tr><td>32</td><td> 9.000</td><td>100.66</td></tr>\n",
       "\t<tr><td>33</td><td> 9.250</td><td>102.31</td></tr>\n",
       "\t<tr><td>34</td><td> 7.000</td><td> 88.00</td></tr>\n",
       "\t<tr><td>35</td><td> 3.500</td><td> 94.53</td></tr>\n",
       "</tbody>\n",
       "</table>\n"
      ],
      "text/latex": [
       "A data.frame: 35 × 3\n",
       "\\begin{tabular}{lll}\n",
       " Case & CouponRate & BidPrice\\\\\n",
       " <int> & <dbl> & <dbl>\\\\\n",
       "\\hline\n",
       "\t  1 &  7.000 &  92.94\\\\\n",
       "\t  2 &  9.000 & 101.44\\\\\n",
       "\t  3 &  7.000 &  92.66\\\\\n",
       "\t  4 &  4.125 &  94.50\\\\\n",
       "\t  5 & 13.125 & 118.94\\\\\n",
       "\t  6 &  8.000 &  96.75\\\\\n",
       "\t  7 &  8.750 & 100.88\\\\\n",
       "\t  8 & 12.625 & 117.25\\\\\n",
       "\t  9 &  9.500 & 103.34\\\\\n",
       "\t 10 & 10.125 & 106.25\\\\\n",
       "\t 11 & 11.625 & 113.19\\\\\n",
       "\t 12 &  8.625 &  99.44\\\\\n",
       "\t 13 &  3.000 &  94.50\\\\\n",
       "\t 14 & 10.500 & 108.31\\\\\n",
       "\t 15 & 11.250 & 111.69\\\\\n",
       "\t 16 &  8.375 &  98.09\\\\\n",
       "\t 17 & 10.375 & 107.91\\\\\n",
       "\t 18 & 11.250 & 111.97\\\\\n",
       "\t 19 & 12.625 & 119.06\\\\\n",
       "\t 20 &  8.875 & 100.38\\\\\n",
       "\t 21 & 10.500 & 108.50\\\\\n",
       "\t 22 &  8.625 &  99.25\\\\\n",
       "\t 23 &  9.500 & 103.63\\\\\n",
       "\t 24 & 11.500 & 114.03\\\\\n",
       "\t 25 &  8.875 & 100.38\\\\\n",
       "\t 26 &  7.375 &  92.06\\\\\n",
       "\t 27 &  7.250 &  90.88\\\\\n",
       "\t 28 &  8.625 &  98.41\\\\\n",
       "\t 29 &  8.500 &  97.75\\\\\n",
       "\t 30 &  8.875 &  99.88\\\\\n",
       "\t 31 &  8.125 &  95.16\\\\\n",
       "\t 32 &  9.000 & 100.66\\\\\n",
       "\t 33 &  9.250 & 102.31\\\\\n",
       "\t 34 &  7.000 &  88.00\\\\\n",
       "\t 35 &  3.500 &  94.53\\\\\n",
       "\\end{tabular}\n"
      ],
      "text/markdown": [
       "\n",
       "A data.frame: 35 × 3\n",
       "\n",
       "| Case &lt;int&gt; | CouponRate &lt;dbl&gt; | BidPrice &lt;dbl&gt; |\n",
       "|---|---|---|\n",
       "|  1 |  7.000 |  92.94 |\n",
       "|  2 |  9.000 | 101.44 |\n",
       "|  3 |  7.000 |  92.66 |\n",
       "|  4 |  4.125 |  94.50 |\n",
       "|  5 | 13.125 | 118.94 |\n",
       "|  6 |  8.000 |  96.75 |\n",
       "|  7 |  8.750 | 100.88 |\n",
       "|  8 | 12.625 | 117.25 |\n",
       "|  9 |  9.500 | 103.34 |\n",
       "| 10 | 10.125 | 106.25 |\n",
       "| 11 | 11.625 | 113.19 |\n",
       "| 12 |  8.625 |  99.44 |\n",
       "| 13 |  3.000 |  94.50 |\n",
       "| 14 | 10.500 | 108.31 |\n",
       "| 15 | 11.250 | 111.69 |\n",
       "| 16 |  8.375 |  98.09 |\n",
       "| 17 | 10.375 | 107.91 |\n",
       "| 18 | 11.250 | 111.97 |\n",
       "| 19 | 12.625 | 119.06 |\n",
       "| 20 |  8.875 | 100.38 |\n",
       "| 21 | 10.500 | 108.50 |\n",
       "| 22 |  8.625 |  99.25 |\n",
       "| 23 |  9.500 | 103.63 |\n",
       "| 24 | 11.500 | 114.03 |\n",
       "| 25 |  8.875 | 100.38 |\n",
       "| 26 |  7.375 |  92.06 |\n",
       "| 27 |  7.250 |  90.88 |\n",
       "| 28 |  8.625 |  98.41 |\n",
       "| 29 |  8.500 |  97.75 |\n",
       "| 30 |  8.875 |  99.88 |\n",
       "| 31 |  8.125 |  95.16 |\n",
       "| 32 |  9.000 | 100.66 |\n",
       "| 33 |  9.250 | 102.31 |\n",
       "| 34 |  7.000 |  88.00 |\n",
       "| 35 |  3.500 |  94.53 |\n",
       "\n"
      ],
      "text/plain": [
       "   Case CouponRate BidPrice\n",
       "1   1    7.000      92.94  \n",
       "2   2    9.000     101.44  \n",
       "3   3    7.000      92.66  \n",
       "4   4    4.125      94.50  \n",
       "5   5   13.125     118.94  \n",
       "6   6    8.000      96.75  \n",
       "7   7    8.750     100.88  \n",
       "8   8   12.625     117.25  \n",
       "9   9    9.500     103.34  \n",
       "10 10   10.125     106.25  \n",
       "11 11   11.625     113.19  \n",
       "12 12    8.625      99.44  \n",
       "13 13    3.000      94.50  \n",
       "14 14   10.500     108.31  \n",
       "15 15   11.250     111.69  \n",
       "16 16    8.375      98.09  \n",
       "17 17   10.375     107.91  \n",
       "18 18   11.250     111.97  \n",
       "19 19   12.625     119.06  \n",
       "20 20    8.875     100.38  \n",
       "21 21   10.500     108.50  \n",
       "22 22    8.625      99.25  \n",
       "23 23    9.500     103.63  \n",
       "24 24   11.500     114.03  \n",
       "25 25    8.875     100.38  \n",
       "26 26    7.375      92.06  \n",
       "27 27    7.250      90.88  \n",
       "28 28    8.625      98.41  \n",
       "29 29    8.500      97.75  \n",
       "30 30    8.875      99.88  \n",
       "31 31    8.125      95.16  \n",
       "32 32    9.000     100.66  \n",
       "33 33    9.250     102.31  \n",
       "34 34    7.000      88.00  \n",
       "35 35    3.500      94.53  "
      ]
     },
     "metadata": {},
     "output_type": "display_data"
    }
   ],
   "source": [
    "bonds"
   ]
  },
  {
   "cell_type": "code",
   "execution_count": 76,
   "id": "alpine-excerpt",
   "metadata": {},
   "outputs": [],
   "source": [
    "set.seed(1357)"
   ]
  },
  {
   "cell_type": "code",
   "execution_count": 81,
   "id": "fourth-iceland",
   "metadata": {},
   "outputs": [],
   "source": [
    "#bidPrice is Dependent vs couponRate is independent \n",
    "sample  <- sample.split(Y = bonds$BidPrice, SplitRatio=0.7)"
   ]
  },
  {
   "cell_type": "code",
   "execution_count": 84,
   "id": "ancient-bracket",
   "metadata": {
    "scrolled": true
   },
   "outputs": [
    {
     "data": {
      "text/html": [
       "<table class=\"dataframe\">\n",
       "<caption>A data.frame: 24 × 3</caption>\n",
       "<thead>\n",
       "\t<tr><th></th><th scope=col>Case</th><th scope=col>CouponRate</th><th scope=col>BidPrice</th></tr>\n",
       "\t<tr><th></th><th scope=col>&lt;int&gt;</th><th scope=col>&lt;dbl&gt;</th><th scope=col>&lt;dbl&gt;</th></tr>\n",
       "</thead>\n",
       "<tbody>\n",
       "\t<tr><th scope=row>3</th><td> 3</td><td> 7.000</td><td> 92.66</td></tr>\n",
       "\t<tr><th scope=row>5</th><td> 5</td><td>13.125</td><td>118.94</td></tr>\n",
       "\t<tr><th scope=row>6</th><td> 6</td><td> 8.000</td><td> 96.75</td></tr>\n",
       "\t<tr><th scope=row>7</th><td> 7</td><td> 8.750</td><td>100.88</td></tr>\n",
       "\t<tr><th scope=row>8</th><td> 8</td><td>12.625</td><td>117.25</td></tr>\n",
       "\t<tr><th scope=row>10</th><td>10</td><td>10.125</td><td>106.25</td></tr>\n",
       "\t<tr><th scope=row>11</th><td>11</td><td>11.625</td><td>113.19</td></tr>\n",
       "\t<tr><th scope=row>12</th><td>12</td><td> 8.625</td><td> 99.44</td></tr>\n",
       "\t<tr><th scope=row>14</th><td>14</td><td>10.500</td><td>108.31</td></tr>\n",
       "\t<tr><th scope=row>15</th><td>15</td><td>11.250</td><td>111.69</td></tr>\n",
       "\t<tr><th scope=row>16</th><td>16</td><td> 8.375</td><td> 98.09</td></tr>\n",
       "\t<tr><th scope=row>17</th><td>17</td><td>10.375</td><td>107.91</td></tr>\n",
       "\t<tr><th scope=row>18</th><td>18</td><td>11.250</td><td>111.97</td></tr>\n",
       "\t<tr><th scope=row>19</th><td>19</td><td>12.625</td><td>119.06</td></tr>\n",
       "\t<tr><th scope=row>20</th><td>20</td><td> 8.875</td><td>100.38</td></tr>\n",
       "\t<tr><th scope=row>22</th><td>22</td><td> 8.625</td><td> 99.25</td></tr>\n",
       "\t<tr><th scope=row>23</th><td>23</td><td> 9.500</td><td>103.63</td></tr>\n",
       "\t<tr><th scope=row>25</th><td>25</td><td> 8.875</td><td>100.38</td></tr>\n",
       "\t<tr><th scope=row>27</th><td>27</td><td> 7.250</td><td> 90.88</td></tr>\n",
       "\t<tr><th scope=row>28</th><td>28</td><td> 8.625</td><td> 98.41</td></tr>\n",
       "\t<tr><th scope=row>32</th><td>32</td><td> 9.000</td><td>100.66</td></tr>\n",
       "\t<tr><th scope=row>33</th><td>33</td><td> 9.250</td><td>102.31</td></tr>\n",
       "\t<tr><th scope=row>34</th><td>34</td><td> 7.000</td><td> 88.00</td></tr>\n",
       "\t<tr><th scope=row>35</th><td>35</td><td> 3.500</td><td> 94.53</td></tr>\n",
       "</tbody>\n",
       "</table>\n"
      ],
      "text/latex": [
       "A data.frame: 24 × 3\n",
       "\\begin{tabular}{r|lll}\n",
       "  & Case & CouponRate & BidPrice\\\\\n",
       "  & <int> & <dbl> & <dbl>\\\\\n",
       "\\hline\n",
       "\t3 &  3 &  7.000 &  92.66\\\\\n",
       "\t5 &  5 & 13.125 & 118.94\\\\\n",
       "\t6 &  6 &  8.000 &  96.75\\\\\n",
       "\t7 &  7 &  8.750 & 100.88\\\\\n",
       "\t8 &  8 & 12.625 & 117.25\\\\\n",
       "\t10 & 10 & 10.125 & 106.25\\\\\n",
       "\t11 & 11 & 11.625 & 113.19\\\\\n",
       "\t12 & 12 &  8.625 &  99.44\\\\\n",
       "\t14 & 14 & 10.500 & 108.31\\\\\n",
       "\t15 & 15 & 11.250 & 111.69\\\\\n",
       "\t16 & 16 &  8.375 &  98.09\\\\\n",
       "\t17 & 17 & 10.375 & 107.91\\\\\n",
       "\t18 & 18 & 11.250 & 111.97\\\\\n",
       "\t19 & 19 & 12.625 & 119.06\\\\\n",
       "\t20 & 20 &  8.875 & 100.38\\\\\n",
       "\t22 & 22 &  8.625 &  99.25\\\\\n",
       "\t23 & 23 &  9.500 & 103.63\\\\\n",
       "\t25 & 25 &  8.875 & 100.38\\\\\n",
       "\t27 & 27 &  7.250 &  90.88\\\\\n",
       "\t28 & 28 &  8.625 &  98.41\\\\\n",
       "\t32 & 32 &  9.000 & 100.66\\\\\n",
       "\t33 & 33 &  9.250 & 102.31\\\\\n",
       "\t34 & 34 &  7.000 &  88.00\\\\\n",
       "\t35 & 35 &  3.500 &  94.53\\\\\n",
       "\\end{tabular}\n"
      ],
      "text/markdown": [
       "\n",
       "A data.frame: 24 × 3\n",
       "\n",
       "| <!--/--> | Case &lt;int&gt; | CouponRate &lt;dbl&gt; | BidPrice &lt;dbl&gt; |\n",
       "|---|---|---|---|\n",
       "| 3 |  3 |  7.000 |  92.66 |\n",
       "| 5 |  5 | 13.125 | 118.94 |\n",
       "| 6 |  6 |  8.000 |  96.75 |\n",
       "| 7 |  7 |  8.750 | 100.88 |\n",
       "| 8 |  8 | 12.625 | 117.25 |\n",
       "| 10 | 10 | 10.125 | 106.25 |\n",
       "| 11 | 11 | 11.625 | 113.19 |\n",
       "| 12 | 12 |  8.625 |  99.44 |\n",
       "| 14 | 14 | 10.500 | 108.31 |\n",
       "| 15 | 15 | 11.250 | 111.69 |\n",
       "| 16 | 16 |  8.375 |  98.09 |\n",
       "| 17 | 17 | 10.375 | 107.91 |\n",
       "| 18 | 18 | 11.250 | 111.97 |\n",
       "| 19 | 19 | 12.625 | 119.06 |\n",
       "| 20 | 20 |  8.875 | 100.38 |\n",
       "| 22 | 22 |  8.625 |  99.25 |\n",
       "| 23 | 23 |  9.500 | 103.63 |\n",
       "| 25 | 25 |  8.875 | 100.38 |\n",
       "| 27 | 27 |  7.250 |  90.88 |\n",
       "| 28 | 28 |  8.625 |  98.41 |\n",
       "| 32 | 32 |  9.000 | 100.66 |\n",
       "| 33 | 33 |  9.250 | 102.31 |\n",
       "| 34 | 34 |  7.000 |  88.00 |\n",
       "| 35 | 35 |  3.500 |  94.53 |\n",
       "\n"
      ],
      "text/plain": [
       "   Case CouponRate BidPrice\n",
       "3   3    7.000      92.66  \n",
       "5   5   13.125     118.94  \n",
       "6   6    8.000      96.75  \n",
       "7   7    8.750     100.88  \n",
       "8   8   12.625     117.25  \n",
       "10 10   10.125     106.25  \n",
       "11 11   11.625     113.19  \n",
       "12 12    8.625      99.44  \n",
       "14 14   10.500     108.31  \n",
       "15 15   11.250     111.69  \n",
       "16 16    8.375      98.09  \n",
       "17 17   10.375     107.91  \n",
       "18 18   11.250     111.97  \n",
       "19 19   12.625     119.06  \n",
       "20 20    8.875     100.38  \n",
       "22 22    8.625      99.25  \n",
       "23 23    9.500     103.63  \n",
       "25 25    8.875     100.38  \n",
       "27 27    7.250      90.88  \n",
       "28 28    8.625      98.41  \n",
       "32 32    9.000     100.66  \n",
       "33 33    9.250     102.31  \n",
       "34 34    7.000      88.00  \n",
       "35 35    3.500      94.53  "
      ]
     },
     "metadata": {},
     "output_type": "display_data"
    }
   ],
   "source": [
    "train_set <- subset(bonds, sample==T)\n",
    "train_set"
   ]
  },
  {
   "cell_type": "code",
   "execution_count": 86,
   "id": "handled-verse",
   "metadata": {
    "scrolled": true
   },
   "outputs": [
    {
     "data": {
      "text/html": [
       "<table class=\"dataframe\">\n",
       "<caption>A data.frame: 11 × 3</caption>\n",
       "<thead>\n",
       "\t<tr><th></th><th scope=col>Case</th><th scope=col>CouponRate</th><th scope=col>BidPrice</th></tr>\n",
       "\t<tr><th></th><th scope=col>&lt;int&gt;</th><th scope=col>&lt;dbl&gt;</th><th scope=col>&lt;dbl&gt;</th></tr>\n",
       "</thead>\n",
       "<tbody>\n",
       "\t<tr><th scope=row>1</th><td> 1</td><td> 7.000</td><td> 92.94</td></tr>\n",
       "\t<tr><th scope=row>2</th><td> 2</td><td> 9.000</td><td>101.44</td></tr>\n",
       "\t<tr><th scope=row>4</th><td> 4</td><td> 4.125</td><td> 94.50</td></tr>\n",
       "\t<tr><th scope=row>9</th><td> 9</td><td> 9.500</td><td>103.34</td></tr>\n",
       "\t<tr><th scope=row>13</th><td>13</td><td> 3.000</td><td> 94.50</td></tr>\n",
       "\t<tr><th scope=row>21</th><td>21</td><td>10.500</td><td>108.50</td></tr>\n",
       "\t<tr><th scope=row>24</th><td>24</td><td>11.500</td><td>114.03</td></tr>\n",
       "\t<tr><th scope=row>26</th><td>26</td><td> 7.375</td><td> 92.06</td></tr>\n",
       "\t<tr><th scope=row>29</th><td>29</td><td> 8.500</td><td> 97.75</td></tr>\n",
       "\t<tr><th scope=row>30</th><td>30</td><td> 8.875</td><td> 99.88</td></tr>\n",
       "\t<tr><th scope=row>31</th><td>31</td><td> 8.125</td><td> 95.16</td></tr>\n",
       "</tbody>\n",
       "</table>\n"
      ],
      "text/latex": [
       "A data.frame: 11 × 3\n",
       "\\begin{tabular}{r|lll}\n",
       "  & Case & CouponRate & BidPrice\\\\\n",
       "  & <int> & <dbl> & <dbl>\\\\\n",
       "\\hline\n",
       "\t1 &  1 &  7.000 &  92.94\\\\\n",
       "\t2 &  2 &  9.000 & 101.44\\\\\n",
       "\t4 &  4 &  4.125 &  94.50\\\\\n",
       "\t9 &  9 &  9.500 & 103.34\\\\\n",
       "\t13 & 13 &  3.000 &  94.50\\\\\n",
       "\t21 & 21 & 10.500 & 108.50\\\\\n",
       "\t24 & 24 & 11.500 & 114.03\\\\\n",
       "\t26 & 26 &  7.375 &  92.06\\\\\n",
       "\t29 & 29 &  8.500 &  97.75\\\\\n",
       "\t30 & 30 &  8.875 &  99.88\\\\\n",
       "\t31 & 31 &  8.125 &  95.16\\\\\n",
       "\\end{tabular}\n"
      ],
      "text/markdown": [
       "\n",
       "A data.frame: 11 × 3\n",
       "\n",
       "| <!--/--> | Case &lt;int&gt; | CouponRate &lt;dbl&gt; | BidPrice &lt;dbl&gt; |\n",
       "|---|---|---|---|\n",
       "| 1 |  1 |  7.000 |  92.94 |\n",
       "| 2 |  2 |  9.000 | 101.44 |\n",
       "| 4 |  4 |  4.125 |  94.50 |\n",
       "| 9 |  9 |  9.500 | 103.34 |\n",
       "| 13 | 13 |  3.000 |  94.50 |\n",
       "| 21 | 21 | 10.500 | 108.50 |\n",
       "| 24 | 24 | 11.500 | 114.03 |\n",
       "| 26 | 26 |  7.375 |  92.06 |\n",
       "| 29 | 29 |  8.500 |  97.75 |\n",
       "| 30 | 30 |  8.875 |  99.88 |\n",
       "| 31 | 31 |  8.125 |  95.16 |\n",
       "\n"
      ],
      "text/plain": [
       "   Case CouponRate BidPrice\n",
       "1   1    7.000      92.94  \n",
       "2   2    9.000     101.44  \n",
       "4   4    4.125      94.50  \n",
       "9   9    9.500     103.34  \n",
       "13 13    3.000      94.50  \n",
       "21 21   10.500     108.50  \n",
       "24 24   11.500     114.03  \n",
       "26 26    7.375      92.06  \n",
       "29 29    8.500      97.75  \n",
       "30 30    8.875      99.88  \n",
       "31 31    8.125      95.16  "
      ]
     },
     "metadata": {},
     "output_type": "display_data"
    }
   ],
   "source": [
    "test_set <- subset(bonds,sample == F)\n",
    "test_set"
   ]
  },
  {
   "cell_type": "markdown",
   "id": "funky-aquatic",
   "metadata": {},
   "source": [
    "### building model"
   ]
  },
  {
   "cell_type": "code",
   "execution_count": 94,
   "id": "intense-commerce",
   "metadata": {
    "scrolled": true
   },
   "outputs": [
    {
     "data": {
      "text/plain": [
       "\n",
       "Call:\n",
       "lm(formula = BidPrice ~ CouponRate, data = train_set)\n",
       "\n",
       "Coefficients:\n",
       "(Intercept)   CouponRate  \n",
       "     68.857        3.685  \n"
      ]
     },
     "metadata": {},
     "output_type": "display_data"
    }
   ],
   "source": [
    "lm(formula = BidPrice ~ CouponRate,\n",
    "                data = train_set)"
   ]
  },
  {
   "cell_type": "code",
   "execution_count": 88,
   "id": "minute-remark",
   "metadata": {},
   "outputs": [
    {
     "data": {
      "text/plain": [
       "\n",
       "Call:\n",
       "lm(formula = BidPrice ~ CouponRate, data = train_set)\n",
       "\n",
       "Residuals:\n",
       "    Min      1Q  Median      3Q     Max \n",
       "-6.6536 -1.4412 -0.4359  1.4039 12.7746 \n",
       "\n",
       "Coefficients:\n",
       "            Estimate Std. Error t value Pr(>|t|)    \n",
       "(Intercept)  68.8573     3.3262   20.70 6.47e-16 ***\n",
       "CouponRate    3.6852     0.3466   10.63 3.90e-10 ***\n",
       "---\n",
       "Signif. codes:  0 '***' 0.001 '**' 0.01 '*' 0.05 '.' 0.1 ' ' 1\n",
       "\n",
       "Residual standard error: 3.569 on 22 degrees of freedom\n",
       "Multiple R-squared:  0.8371,\tAdjusted R-squared:  0.8297 \n",
       "F-statistic: 113.1 on 1 and 22 DF,  p-value: 3.903e-10\n"
      ]
     },
     "metadata": {},
     "output_type": "display_data"
    }
   ],
   "source": [
    "summary(regression)"
   ]
  },
  {
   "cell_type": "code",
   "execution_count": 93,
   "id": "limiting-architect",
   "metadata": {
    "scrolled": true
   },
   "outputs": [
    {
     "data": {
      "text/html": [
       "<style>\n",
       ".dl-inline {width: auto; margin:0; padding: 0}\n",
       ".dl-inline>dt, .dl-inline>dd {float: none; width: auto; display: inline-block}\n",
       ".dl-inline>dt::after {content: \":\\0020\"; padding-right: .5ex}\n",
       ".dl-inline>dt:not(:first-of-type) {padding-left: .5ex}\n",
       "</style><dl class=dl-inline><dt>1</dt><dd>94.653566552901</dd><dt>2</dt><dd>102.023941979522</dd><dt>4</dt><dd>84.0586518771331</dd><dt>9</dt><dd>103.866535836177</dd><dt>13</dt><dd>79.9128156996587</dd><dt>21</dt><dd>107.551723549488</dd><dt>24</dt><dd>111.236911262799</dd><dt>26</dt><dd>96.0355119453925</dd><dt>29</dt><dd>100.181348122867</dd><dt>30</dt><dd>101.563293515358</dd><dt>31</dt><dd>98.7994027303754</dd></dl>\n"
      ],
      "text/latex": [
       "\\begin{description*}\n",
       "\\item[1] 94.653566552901\n",
       "\\item[2] 102.023941979522\n",
       "\\item[4] 84.0586518771331\n",
       "\\item[9] 103.866535836177\n",
       "\\item[13] 79.9128156996587\n",
       "\\item[21] 107.551723549488\n",
       "\\item[24] 111.236911262799\n",
       "\\item[26] 96.0355119453925\n",
       "\\item[29] 100.181348122867\n",
       "\\item[30] 101.563293515358\n",
       "\\item[31] 98.7994027303754\n",
       "\\end{description*}\n"
      ],
      "text/markdown": [
       "1\n",
       ":   94.6535665529012\n",
       ":   102.0239419795224\n",
       ":   84.05865187713319\n",
       ":   103.86653583617713\n",
       ":   79.912815699658721\n",
       ":   107.55172354948824\n",
       ":   111.23691126279926\n",
       ":   96.035511945392529\n",
       ":   100.18134812286730\n",
       ":   101.56329351535831\n",
       ":   98.7994027303754\n",
       "\n"
      ],
      "text/plain": [
       "        1         2         4         9        13        21        24        26 \n",
       " 94.65357 102.02394  84.05865 103.86654  79.91282 107.55172 111.23691  96.03551 \n",
       "       29        30        31 \n",
       "100.18135 101.56329  98.79940 "
      ]
     },
     "metadata": {},
     "output_type": "display_data"
    }
   ],
   "source": [
    "predict(regression, newdata = test_set)"
   ]
  },
  {
   "cell_type": "code",
   "execution_count": 90,
   "id": "radical-malaysia",
   "metadata": {
    "scrolled": true
   },
   "outputs": [
    {
     "data": {
      "text/html": [
       "<table class=\"dataframe\">\n",
       "<caption>A data.frame: 11 × 3</caption>\n",
       "<thead>\n",
       "\t<tr><th></th><th scope=col>Case</th><th scope=col>CouponRate</th><th scope=col>BidPrice</th></tr>\n",
       "\t<tr><th></th><th scope=col>&lt;int&gt;</th><th scope=col>&lt;dbl&gt;</th><th scope=col>&lt;dbl&gt;</th></tr>\n",
       "</thead>\n",
       "<tbody>\n",
       "\t<tr><th scope=row>1</th><td> 1</td><td> 7.000</td><td> 92.94</td></tr>\n",
       "\t<tr><th scope=row>2</th><td> 2</td><td> 9.000</td><td>101.44</td></tr>\n",
       "\t<tr><th scope=row>4</th><td> 4</td><td> 4.125</td><td> 94.50</td></tr>\n",
       "\t<tr><th scope=row>9</th><td> 9</td><td> 9.500</td><td>103.34</td></tr>\n",
       "\t<tr><th scope=row>13</th><td>13</td><td> 3.000</td><td> 94.50</td></tr>\n",
       "\t<tr><th scope=row>21</th><td>21</td><td>10.500</td><td>108.50</td></tr>\n",
       "\t<tr><th scope=row>24</th><td>24</td><td>11.500</td><td>114.03</td></tr>\n",
       "\t<tr><th scope=row>26</th><td>26</td><td> 7.375</td><td> 92.06</td></tr>\n",
       "\t<tr><th scope=row>29</th><td>29</td><td> 8.500</td><td> 97.75</td></tr>\n",
       "\t<tr><th scope=row>30</th><td>30</td><td> 8.875</td><td> 99.88</td></tr>\n",
       "\t<tr><th scope=row>31</th><td>31</td><td> 8.125</td><td> 95.16</td></tr>\n",
       "</tbody>\n",
       "</table>\n"
      ],
      "text/latex": [
       "A data.frame: 11 × 3\n",
       "\\begin{tabular}{r|lll}\n",
       "  & Case & CouponRate & BidPrice\\\\\n",
       "  & <int> & <dbl> & <dbl>\\\\\n",
       "\\hline\n",
       "\t1 &  1 &  7.000 &  92.94\\\\\n",
       "\t2 &  2 &  9.000 & 101.44\\\\\n",
       "\t4 &  4 &  4.125 &  94.50\\\\\n",
       "\t9 &  9 &  9.500 & 103.34\\\\\n",
       "\t13 & 13 &  3.000 &  94.50\\\\\n",
       "\t21 & 21 & 10.500 & 108.50\\\\\n",
       "\t24 & 24 & 11.500 & 114.03\\\\\n",
       "\t26 & 26 &  7.375 &  92.06\\\\\n",
       "\t29 & 29 &  8.500 &  97.75\\\\\n",
       "\t30 & 30 &  8.875 &  99.88\\\\\n",
       "\t31 & 31 &  8.125 &  95.16\\\\\n",
       "\\end{tabular}\n"
      ],
      "text/markdown": [
       "\n",
       "A data.frame: 11 × 3\n",
       "\n",
       "| <!--/--> | Case &lt;int&gt; | CouponRate &lt;dbl&gt; | BidPrice &lt;dbl&gt; |\n",
       "|---|---|---|---|\n",
       "| 1 |  1 |  7.000 |  92.94 |\n",
       "| 2 |  2 |  9.000 | 101.44 |\n",
       "| 4 |  4 |  4.125 |  94.50 |\n",
       "| 9 |  9 |  9.500 | 103.34 |\n",
       "| 13 | 13 |  3.000 |  94.50 |\n",
       "| 21 | 21 | 10.500 | 108.50 |\n",
       "| 24 | 24 | 11.500 | 114.03 |\n",
       "| 26 | 26 |  7.375 |  92.06 |\n",
       "| 29 | 29 |  8.500 |  97.75 |\n",
       "| 30 | 30 |  8.875 |  99.88 |\n",
       "| 31 | 31 |  8.125 |  95.16 |\n",
       "\n"
      ],
      "text/plain": [
       "   Case CouponRate BidPrice\n",
       "1   1    7.000      92.94  \n",
       "2   2    9.000     101.44  \n",
       "4   4    4.125      94.50  \n",
       "9   9    9.500     103.34  \n",
       "13 13    3.000      94.50  \n",
       "21 21   10.500     108.50  \n",
       "24 24   11.500     114.03  \n",
       "26 26    7.375      92.06  \n",
       "29 29    8.500      97.75  \n",
       "30 30    8.875      99.88  \n",
       "31 31    8.125      95.16  "
      ]
     },
     "metadata": {},
     "output_type": "display_data"
    }
   ],
   "source": [
    "#to veriy the above result\n",
    "test_set"
   ]
  },
  {
   "cell_type": "markdown",
   "id": "magnetic-election",
   "metadata": {},
   "source": [
    "### plotting"
   ]
  },
  {
   "cell_type": "code",
   "execution_count": 105,
   "id": "limiting-likelihood",
   "metadata": {},
   "outputs": [
    {
     "data": {
      "image/png": "[encoded data removed]",
      "text/plain": [
       "plot without title"
      ]
     },
     "metadata": {
      "image/png": {
       "height": 420,
       "width": 420
      }
     },
     "output_type": "display_data"
    }
   ],
   "source": [
    "ggplot()+ geom_point(aes(x= train_set$CouponRate,y= train_set$BidPrice, color = 'red'))+\n",
    "    geom_line(aes(train_set$CouponRate, predict(regression, newdata = train_set, color = 'blue')))\n"
   ]
  },
  {
   "cell_type": "code",
   "execution_count": 115,
   "id": "independent-blood",
   "metadata": {},
   "outputs": [
    {
     "data": {
      "image/png": "[encoded data removed]",
      "text/plain": [
       "plot without title"
      ]
     },
     "metadata": {
      "image/png": {
       "height": 420,
       "width": 420
      }
     },
     "output_type": "display_data"
    }
   ],
   "source": [
    "ggplot()+ geom_point(aes(x= test_set$CouponRate,y= test_set$BidPrice, color = 'red'))+\n",
    "    geom_line(aes(test_set$CouponRate, predict(regression, newdata = test_set, color = 'blue')))\n"
   ]
  }
 ],
 "metadata": {
  "kernelspec": {
   "display_name": "R",
   "language": "R",
   "name": "ir"
  },
  "language_info": {
   "codemirror_mode": "r",
   "file_extension": ".r",
   "mimetype": "text/x-r-source",
   "name": "R",
   "pygments_lexer": "r",
   "version": "4.0.4"
  }
 },
 "nbformat": 4,
 "nbformat_minor": 5
}
